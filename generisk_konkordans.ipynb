{
 "cells": [
  {
   "cell_type": "markdown",
   "metadata": {},
   "source": [
    "## Konkordanser mot bokhylla med emneord\n",
    "\n",
    "Versjon: **Mars 2019**\n",
    "\n",
    "Velg `Run all` fra Cell-menyen over. Visning av kode forsvinner, som kan toggles ved å trykke på den grå knappen nedenfor. \n",
    "\n",
    "Gå til avsnittet med Konkordanser og fyll inn det som trengs der."
   ]
  },
  {
   "cell_type": "code",
   "execution_count": 11,
   "metadata": {},
   "outputs": [],
   "source": [
    "#!curl -s https://raw.githubusercontent.com/yoonsen/modules/master/module_update.py > module_update.py"
   ]
  },
  {
   "cell_type": "code",
   "execution_count": 12,
   "metadata": {},
   "outputs": [],
   "source": [
    "from module_update import css, code_toggle, printmd"
   ]
  },
  {
   "cell_type": "code",
   "execution_count": 13,
   "metadata": {},
   "outputs": [
    {
     "data": {
      "text/html": [
       "<style>@import url(\n",
       "http://fonts.googleapis.com/css?family=Lato|Philosopher|Montserrat|Source+Code+Pro|Istok+Web|Philosopher|Assistant:200,400,700);\n",
       "\n",
       "/*\n",
       "#notebook-container {\n",
       "\t-webkit-box-shadow: none;\n",
       "\tbox-shadow: none;\n",
       "}\n",
       "*/\n",
       "\n",
       "h1, h2, h3, h4, h5, h6 {\n",
       "\tfont-family: 'Montserrat', sans-serif;\n",
       "\tline-height: 2em;\n",
       "    color: #004f99;\n",
       "    font-weight: 600;\n",
       "}\n",
       "\n",
       "h1 { font-size: 4.5em; }\n",
       "h2 { font-size: 4em; }\n",
       "h3 { font-size: 3.5em; }\n",
       "h4 { font-size: 3em; }\n",
       "h5 { font-size: 2.5em; color:DarkSlateGray; }\n",
       "h6 { font-size: 2em; }\n",
       "\n",
       "p {\n",
       "\tfont-family: 'Assistant', sans-serif; \n",
       "\tfont-size: 1.2em;\n",
       "\tline-height: 1.4em;\n",
       "\tcolor: black;\n",
       "}\n",
       "p code {\n",
       "\tfont-size:0.9em;\n",
       "}\n",
       "div.input_area {\n",
       "\tborder:none !important;\n",
       "\tborder-left:1px solid #ff851b !important\n",
       "}\n",
       "\n",
       "span.cm-keyword {\n",
       "\tcolor:#339966 !important;\n",
       "}\n",
       "span.nn {  /*span.cm-variable, span.cm-property*/\n",
       "\tcolor: #3399ff !important;\n",
       "}\n",
       "div.CodeMirror {\n",
       "\tfont-family: 'Inconsolata', monospace;\n",
       "\tfont-size: 1.1em;\n",
       "\t\n",
       "}\n",
       "</style>"
      ],
      "text/plain": [
       "<IPython.core.display.HTML object>"
      ]
     },
     "execution_count": 13,
     "metadata": {},
     "output_type": "execute_result"
    }
   ],
   "source": [
    "css()"
   ]
  },
  {
   "cell_type": "code",
   "execution_count": 14,
   "metadata": {},
   "outputs": [
    {
     "data": {
      "text/html": [
       "<div>\n",
       "                <style>\n",
       "                 .mybutton {\n",
       "                    background-color: lightgrey;\n",
       "                    border: none;\n",
       "                    color: white;\n",
       "                    padding: 10px 16px;\n",
       "                    text-align: center;\n",
       "                    text-decoration: none;\n",
       "                    display: inline-block;\n",
       "                    font-size: 16px;\n",
       "                    margin: 4px 2px;\n",
       "                    cursor: pointer;\n",
       "                }\n",
       "            </style>\n",
       "            <script>\n",
       "                code_show=true; \n",
       "                function code_toggle() {\n",
       "                 if (code_show){\n",
       "                 $('div.input').hide();\n",
       "                 } else {\n",
       "                 $('div.input').show();\n",
       "                 }\n",
       "                 code_show = !code_show\n",
       "                } \n",
       "                $( document ).ready(code_toggle);\n",
       "            </script>\n",
       "            <form  action=\"javascript:code_toggle()\">\n",
       "                <input class='mybutton' type=\"submit\" value=\"Klikk for å vise/skjule kodeceller\">\n",
       "            </form>\n",
       "        </div>"
      ],
      "text/plain": [
       "<IPython.core.display.HTML object>"
      ]
     },
     "metadata": {},
     "output_type": "display_data"
    }
   ],
   "source": [
    "code_toggle()"
   ]
  },
  {
   "cell_type": "code",
   "execution_count": 15,
   "metadata": {},
   "outputs": [],
   "source": [
    "#from nbtext import get_konk\n",
    "import ipywidgets as widgets\n",
    "from ipywidgets import interact, interact_manual\n",
    "%matplotlib inline"
   ]
  },
  {
   "cell_type": "code",
   "execution_count": 16,
   "metadata": {},
   "outputs": [],
   "source": [
    "import pandas as pd\n",
    "import requests\n",
    "from IPython.display import HTML\n",
    "\n",
    "def get_konk(word, params=None, kind='html'):\n",
    "    if params is None:\n",
    "        params = {}\n",
    "\n",
    "    para = params\n",
    "    para['word']= word\n",
    "\n",
    "    corpus = 'bok'\n",
    "    if 'corpus' in para:\n",
    "        corpus = para['corpus']\n",
    "    else:\n",
    "        para['corpus'] = corpus\n",
    "        \n",
    "    r = requests.get('https://api.nb.no/ngram/konk', params=para)\n",
    "    if kind=='html':\n",
    "        rows = \"\"\n",
    "        row_template = (\"<tr>\"\n",
    "                        \"<td><a href='{urn}?searchText={kw}' target='_'>{urnredux}</a></td>\"\n",
    "                        \"<td>{b}</td>\"\n",
    "                        \"<td>{w}</td>\"\n",
    "                        \"<td style='text-align:left'>{a}</td>\"\n",
    "                        \"</tr>\\n\")\n",
    "        if corpus == 'bok':\n",
    "            for x in r.json():\n",
    "                rows += row_template.format(\n",
    "                    kw = word,\n",
    "                    urn=x['urn'],\n",
    "                    urnredux=','.join([x['author'], x['title'], str(x['year'])]),\n",
    "                    b=x['before'],\n",
    "                    w=x['word'],\n",
    "                    a=x['after'])\n",
    "        else:\n",
    "            #print(r.json())\n",
    "            for x in r.json():\n",
    "                rows += row_template.format(\n",
    "                    kw = word,\n",
    "                    urn=x['urn'],\n",
    "                    urnredux='-'.join(x['urn'].split('_')[2:6:3]),\n",
    "                    b=x['before'],\n",
    "                    w=x['word'],\n",
    "                    a=x['after'])\n",
    "        res = \"<table>{rows}</table>\".format(rows=rows)\n",
    "        res = HTML(res)\n",
    "    elif kind == 'json':\n",
    "        res = r.json()\n",
    "    else:\n",
    "        try:\n",
    "            if corpus == 'bok':\n",
    "                res = pd.DataFrame(r.json())\n",
    "                res = res[['urn','author','title','year','before','word','after']]\n",
    "            else:\n",
    "                res = pd.DataFrame(r.json())\n",
    "                res = res[['urn','before','word','after']]\n",
    "            \n",
    "        except:\n",
    "            res= pd.DataFrame()\n",
    "        #r = r.style.set_properties(subset=['after'],**{'text-align':'left'})\n",
    "    return res\n"
   ]
  },
  {
   "cell_type": "markdown",
   "metadata": {},
   "source": [
    "## Konkordanser\n",
    "Finn konkordanser. Fyll in søkeord og emneord og klikk knappen `Hent konkordanser!`, eller bruk returtasten. Repeter klikk og tastetrykk for å få flere resultat.\n",
    "\n",
    "Både emneord og søkeord er følsom for stor forbokstav. Med liten forbokstav er emneordene fritt laget, mens de kapitaliserte tilhører en tesaurus som for eksempel Humord."
   ]
  },
  {
   "cell_type": "code",
   "execution_count": 17,
   "metadata": {},
   "outputs": [],
   "source": [
    "res = dict()"
   ]
  },
  {
   "cell_type": "code",
   "execution_count": 18,
   "metadata": {},
   "outputs": [
    {
     "data": {
      "application/vnd.jupyter.widget-view+json": {
       "model_id": "d32fd80f0e854778bede9cd1184138b9",
       "version_major": 2,
       "version_minor": 0
      },
      "text/plain": [
       "interactive(children=(Text(value='', description='søkeord'), Text(value='', description='emneord'), Text(value…"
      ]
     },
     "metadata": {},
     "output_type": "display_data"
    }
   ],
   "source": [
    "def konk(søkeord='', emneord='', forfatter ='', tittel ='', \n",
    "         periode =widgets.IntRangeSlider(min=1720, max= 2010, value=[1950, 2000]), \n",
    "         før = (0,12), etter = (0,12),  grense = (0,10)):\n",
    "    res[søkeord] = get_konk(søkeord, {'yearfrom': periode[0], 'author': '%'.join(forfatter.split()) + \"%\", 'subject':emneord, 'title': \"%\" + '%'.join(tittel.split()) + \"%\", 'yearto':periode[1], 'corpus':'bok', 'before':før, 'after':etter, 'size':grense})\n",
    "    return res[søkeord]\n",
    "\n",
    "im = interact_manual(konk);\n",
    "im.widget.children[8].description = 'Hent konkordanser!'"
   ]
  },
  {
   "cell_type": "code",
   "execution_count": null,
   "metadata": {},
   "outputs": [],
   "source": []
  },
  {
   "cell_type": "code",
   "execution_count": null,
   "metadata": {},
   "outputs": [],
   "source": []
  }
 ],
 "metadata": {
  "hide_input": false,
  "kernelspec": {
   "display_name": "Python 3",
   "language": "python",
   "name": "python3"
  },
  "language_info": {
   "codemirror_mode": {
    "name": "ipython",
    "version": 3
   },
   "file_extension": ".py",
   "mimetype": "text/x-python",
   "name": "python",
   "nbconvert_exporter": "python",
   "pygments_lexer": "ipython3",
   "version": "3.7.1"
  }
 },
 "nbformat": 4,
 "nbformat_minor": 2
}
